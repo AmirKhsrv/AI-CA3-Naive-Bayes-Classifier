{
 "cells": [
  {
   "cell_type": "markdown",
   "id": "69f9a0e8",
   "metadata": {},
   "source": [
    "#  __ __ __ __ __ Amirmohammad Khosravi Esfezar __ __ __ __ __ __\n",
    "#  __ __ __ __ __ __ __ __ S.N. : 810198386 __ __ __ __ __ __ __ __ __"
   ]
  },
  {
   "cell_type": "markdown",
   "id": "f6656324",
   "metadata": {},
   "source": [
    "#  __ __ __ __ __ __ Project: Naive Bayes Classifier __ __ __ __ __ __"
   ]
  },
  {
   "cell_type": "markdown",
   "id": "d7d8b51e",
   "metadata": {},
   "source": [
    "Classifing products of divar according to their description and title into 6 different categories."
   ]
  },
  {
   "cell_type": "markdown",
   "id": "24616f7b",
   "metadata": {},
   "source": [
    "# => Phase 0: Initializing and reading data"
   ]
  },
  {
   "cell_type": "code",
   "execution_count": 63,
   "id": "26453065",
   "metadata": {
    "scrolled": true
   },
   "outputs": [],
   "source": [
    "import pandas as pd\n",
    "from __future__ import unicode_literals\n",
    "from hazm import *\n",
    "import collections\n",
    "import math\n",
    "import copy\n",
    "import matplotlib.pyplot as plt"
   ]
  },
  {
   "cell_type": "code",
   "execution_count": 64,
   "id": "db35af2a",
   "metadata": {},
   "outputs": [],
   "source": [
    "TRAIN_FILE_PATH = 'divar_train.csv'\n",
    "TEST_FILE_PATH = 'divar_test.csv'"
   ]
  },
  {
   "cell_type": "code",
   "execution_count": 65,
   "id": "a3745fad",
   "metadata": {
    "scrolled": false
   },
   "outputs": [],
   "source": [
    "trainData = pd.read_csv(TRAIN_FILE_PATH)\n",
    "testData = pd.read_csv(TEST_FILE_PATH)"
   ]
  },
  {
   "cell_type": "markdown",
   "id": "dfdda2ee",
   "metadata": {},
   "source": [
    "# => Phase 1: Preprocessing"
   ]
  },
  {
   "cell_type": "markdown",
   "id": "754074bd",
   "metadata": {},
   "source": [
    "# => 1:\n",
    "In preprocessing we use hazm library and its methods. We use lemmatization and stemming to normalize words.\n",
    "\n",
    "**Lemmetization**: Replace words with their origins(roots). for example word 'میروم' will be converted to 'رفت#رو'.\n",
    "\n",
    "**Stemming**: Deleting all extra characters from words. for example word 'کتاب ها' will be 'کتاب'.\n",
    "\n",
    "Another thing we do is deleting prepositions, conjuctions, single character words, dots, commas and etc.\n",
    "We use a lambda function that iterate throw all words and checks if the word exist in wordsToDelete \n",
    "list or not; if yes it will delete that word.\n",
    "After that we normalize both train and test data (both description and title parts)."
   ]
  },
  {
   "cell_type": "code",
   "execution_count": 66,
   "id": "c65b73ad",
   "metadata": {
    "scrolled": true
   },
   "outputs": [],
   "source": [
    "normalizer = Normalizer()\n",
    "stemmer = Stemmer()\n",
    "lemmatizer = Lemmatizer()\n",
    "wordsToDelete = ['را', 'برای', 'به', 'با','که', 'از', 'در', 'اما','اگر', 'اگه', 'تا', 'هر','و', '.', 'و', 'نو']\n",
    "\n",
    "def normalize(data):\n",
    "    words = word_tokenize(data)\n",
    "    for index, word in enumerate(words):\n",
    "        words[index] = stemmer.stem(word)\n",
    "        words[index] = lemmatizer.lemmatize(word)\n",
    "    return list(filter(lambda word: word not in wordsToDelete and len(word) != 1, words))\n",
    "\n",
    "trainData['description'] = trainData['description'].apply(normalize)\n",
    "trainData['title'] = trainData['title'].apply(normalize)\n",
    "\n",
    "testData['description'] = testData['description'].apply(normalize)\n",
    "testData['title'] = testData['title'].apply(normalize)"
   ]
  },
  {
   "cell_type": "markdown",
   "id": "ad5fa9ea",
   "metadata": {},
   "source": [
    "# => Phase 2: Problem flow"
   ]
  },
  {
   "cell_type": "markdown",
   "id": "17f14bcb",
   "metadata": {},
   "source": [
    "# => 2:\n",
    "$x$: words appeared\n",
    "\n",
    "$c$: The product category\n",
    "\n",
    "**Likelihood-->** $P(x|c)$ : Probability of seeing set of words $x$ in a description and title of product with category of $c$ \n",
    "\n",
    "**Posterior-->** $P(c|x)$ : Probability of the product category being $c$ knowing that set of words $x$ has appeared in the title and description. \n",
    "\n",
    "**Class Prior Probability-->** $P(c)$: Probability of seeing a prduct with category $c$ which is equal for all categories since they all have occured the same number of times in the dataset.\n",
    "\n",
    "$$ P(c|x) = \\frac{P(x|c)P(c)}{P(x)} $$"
   ]
  },
  {
   "cell_type": "markdown",
   "id": "82626014",
   "metadata": {},
   "source": [
    "Here we count all words in train data for each category and save it in a dictionay called categorizedData."
   ]
  },
  {
   "cell_type": "code",
   "execution_count": 67,
   "id": "b6efbd23",
   "metadata": {},
   "outputs": [],
   "source": [
    "categories = list(set(trainData['categories']))\n",
    "categorizedData = {c:trainData[trainData.categories == c] for c in categories}\n",
    "dataWordsCounts = {c:0 for c in categories}\n",
    "for category in categorizedData:\n",
    "    allWords = []\n",
    "    categorizedData[category]['title'].apply(lambda i: allWords.extend(i))\n",
    "    categorizedData[category]['description'].apply(lambda i: allWords.extend(i))\n",
    "    tokenCounts = collections.Counter(allWords)\n",
    "    totalWords = sum(tokenCounts.values())\n",
    "    dataWordsCounts[category] = [tokenCounts, totalWords]"
   ]
  },
  {
   "cell_type": "markdown",
   "id": "43a7660e",
   "metadata": {},
   "source": [
    "# Bigram\n",
    "# => 3:\n",
    "For example we have sentences below:\n",
    "\n",
    "بوستان سعدی یکی از آثار ارزشمند فارسی است.\n",
    "\n",
    "درختان جدیدی در بوستان کاشته شده اند.\n",
    "\n",
    "In the first sentece بوستان is a book name and in the second one in means garden or park. \n",
    "\n",
    "If we use bigram we will get the meaning correctly because of words سعدی and کاشته which are after بوستان ."
   ]
  },
  {
   "cell_type": "code",
   "execution_count": 68,
   "id": "c1370b9a",
   "metadata": {},
   "outputs": [],
   "source": [
    "assessmentData = {\n",
    "    'Correct Detected': 0, \n",
    "    'Total': 0, \n",
    "    'Correct Detected Class': {c:0 for c in categories}, \n",
    "    'All Detected Class': {c:0 for c in categories},\n",
    "    'Total Class': {c:0 for c in categories},\n",
    "}\n",
    "\n",
    "def initializeAssessmentData():\n",
    "    assessmentData['Correct Detected'] = 0\n",
    "    assessmentData['Total'] = 0\n",
    "    assessmentData['Correct Detected Class'] = {c:0 for c in categories}\n",
    "    assessmentData['All Detected Class'] = {c:0 for c in categories}\n",
    "    assessmentData['Total Class'] = {c:0 for c in categories}"
   ]
  },
  {
   "cell_type": "markdown",
   "id": "891db5b2",
   "metadata": {},
   "source": [
    "Here we calculate probability for each category and predict the category for each product. For calculating probability for each category we use formula bellow:\n",
    "$$ \\frac{Word Counts + \\alpha}{Total Words + \\alpha.D} $$\n"
   ]
  },
  {
   "cell_type": "code",
   "execution_count": 69,
   "id": "f4159430",
   "metadata": {},
   "outputs": [],
   "source": [
    "def predictCategories():\n",
    "    initializeAssessmentData()\n",
    "    for i in testData.iloc:\n",
    "        assessmentData['Total'] += 1\n",
    "        allWords = i['title'] + i['description']\n",
    "        categoriesProbability = {c:1 for c in categories}\n",
    "        for c in categories:\n",
    "            for w in allWords:\n",
    "                wordCs = 0\n",
    "                if w in dataWordsCounts[c][0].keys():\n",
    "                    wordCs = dataWordsCounts[c][0][w]\n",
    "                wordProb = wordCs / dataWordsCounts[c][1]\n",
    "                categoriesProbability[c] *= wordProb\n",
    "        mostProbab = c\n",
    "        assessmentData['Total Class'][i['categories']] += 1\n",
    "        for j in categoriesProbability.keys():\n",
    "            if categoriesProbability[j] > categoriesProbability[mostProbab]:\n",
    "                mostProbab = j\n",
    "        if mostProbab == i['categories']:\n",
    "            assessmentData['Correct Detected'] += 1\n",
    "            assessmentData['Correct Detected Class'][i['categories']] += 1\n",
    "        assessmentData['All Detected Class'][mostProbab] += 1"
   ]
  },
  {
   "cell_type": "markdown",
   "id": "0afb6633",
   "metadata": {},
   "source": [
    "# Additive Smoothing\n",
    "# => 4:\n",
    "When there is a word which is only in one category, Naive Bayes will definetly choose that category as the predicted anser because the other categories probability will become zero, but this may cause wrong answers. \n",
    "\n",
    "When a word such as x is not in a category the probability (P(x|c)) will be zero so when we multiply it to the total probability of that category the result will be zero and will never be chosen as the answer."
   ]
  },
  {
   "cell_type": "markdown",
   "id": "92b94a94",
   "metadata": {},
   "source": [
    "# => 5:\n",
    "We calculate the probability with the formula below in additive smoothing for each category:\n",
    "\n",
    "$$ \\frac{Word Counts + 1}{Total Words + 1 + Words Type Counts} $$\n",
    "\n",
    "Using additive smoothing, we wont have those zero probability mentioned in part 4 because we have at least one on the top part of ther formula (if word counts be zero) so many wrong answers will be avoided. The accuracy without additive smoothing is about 40 percent but with additive smoothing its about 86 percent."
   ]
  },
  {
   "cell_type": "code",
   "execution_count": 70,
   "id": "4f9a2f15",
   "metadata": {},
   "outputs": [],
   "source": [
    "wrongAnsweredTests = []\n",
    "\n",
    "def predictCategoriesAdditive():\n",
    "    initializeAssessmentData()\n",
    "    truePredicts = 0\n",
    "    allProducts = 0\n",
    "    for i in testData.iloc:\n",
    "        assessmentData['Total'] += 1\n",
    "        allProducts += 1\n",
    "        allWords = i['title'] + i['description']\n",
    "        categoriesProbability = {c:0 for c in categories}\n",
    "        for c in categories:\n",
    "            for w in allWords:\n",
    "                wordCs = 0\n",
    "                notInList = False\n",
    "                if w in dataWordsCounts[c][0].keys():\n",
    "                    wordCs = dataWordsCounts[c][0][w]\n",
    "                else:\n",
    "                    notInList = True\n",
    "                if notInList:\n",
    "                    wordProb = math.log((wordCs + 1) / (dataWordsCounts[c][1] + len(allWords) + 1))\n",
    "                else:\n",
    "                    wordProb = math.log(wordCs / dataWordsCounts[c][1])\n",
    "                categoriesProbability[c] += wordProb\n",
    "        mostProbab = c\n",
    "        assessmentData['Total Class'][i['categories']] += 1\n",
    "        for j in categoriesProbability.keys():\n",
    "            if categoriesProbability[j] > categoriesProbability[mostProbab]:\n",
    "                mostProbab = j\n",
    "        if mostProbab == i['categories']:\n",
    "            truePredicts += 1\n",
    "            assessmentData['Correct Detected'] += 1\n",
    "            assessmentData['Correct Detected Class'][i['categories']] += 1\n",
    "        else:\n",
    "            wrongAnsweredTests.append([allWords, mostProbab, i['categories']])\n",
    "        assessmentData['All Detected Class'][mostProbab] += 1"
   ]
  },
  {
   "cell_type": "markdown",
   "id": "130e3818",
   "metadata": {},
   "source": [
    "# Check Correctness:\n",
    "# => 6:\n",
    "Here we plot five most common words in each category and delete ones which are in almost all plots (we put them in wordsToDelete list). This will help us to get better accuracy."
   ]
  },
  {
   "cell_type": "code",
   "execution_count": 71,
   "id": "8fce5b15",
   "metadata": {},
   "outputs": [],
   "source": [
    "def plotCommons():\n",
    "    for c in categories:\n",
    "        mostCommons = dataWordsCounts[c][0].most_common(5)\n",
    "        mostCommonsList = list(map(list, zip(*mostCommons)))\n",
    "        fig = plt.figure(figsize = (10, 5))\n",
    "        plt.bar(mostCommonsList[0], mostCommonsList[1], color ='blue',width = 0.4)\n",
    "        plt.xlabel(\"Words\")\n",
    "        plt.ylabel(\"Counts\")\n",
    "        plt.title(c)\n",
    "        plt.show()"
   ]
  },
  {
   "cell_type": "code",
   "execution_count": 72,
   "id": "4e439449",
   "metadata": {},
   "outputs": [
    {
     "data": {
      "image/png": "[encoded data removed]",
      "text/plain": [
       "<Figure size 720x360 with 1 Axes>"
      ]
     },
     "metadata": {
      "needs_background": "light"
     },
     "output_type": "display_data"
    },
    {
     "data": {
      "image/png": "[encoded data removed]",
      "text/plain": [
       "<Figure size 720x360 with 1 Axes>"
      ]
     },
     "metadata": {
      "needs_background": "light"
     },
     "output_type": "display_data"
    },
    {
     "data": {
      "image/png": "[encoded data removed]",
      "text/plain": [
       "<Figure size 720x360 with 1 Axes>"
      ]
     },
     "metadata": {
      "needs_background": "light"
     },
     "output_type": "display_data"
    },
    {
     "data": {
      "image/png": "[encoded data removed]",
      "text/plain": [
       "<Figure size 720x360 with 1 Axes>"
      ]
     },
     "metadata": {
      "needs_background": "light"
     },
     "output_type": "display_data"
    },
    {
     "data": {
      "image/png": "[encoded data removed]",
      "text/plain": [
       "<Figure size 720x360 with 1 Axes>"
      ]
     },
     "metadata": {
      "needs_background": "light"
     },
     "output_type": "display_data"
    },
    {
     "data": {
      "image/png": "[encoded data removed]",
      "text/plain": [
       "<Figure size 720x360 with 1 Axes>"
      ]
     },
     "metadata": {
      "needs_background": "light"
     },
     "output_type": "display_data"
    }
   ],
   "source": [
    "plotCommons()"
   ]
  },
  {
   "cell_type": "code",
   "execution_count": 73,
   "id": "ac64c765",
   "metadata": {},
   "outputs": [],
   "source": [
    "assessment = {}\n",
    "def calculateAssessment():\n",
    "    assessment['Accuracy'] = assessmentData['Correct Detected'] / assessmentData['Total']\n",
    "    assessment['Percision'] = {c:assessmentData['Correct Detected Class'][c] / assessmentData['All Detected Class'][c] for c in categories}\n",
    "    assessment['Recall'] = {c:assessmentData['Correct Detected Class'][c] / assessmentData['Total Class'][c] for c in categories}\n",
    "    assessment['F1'] = {c:2 * (assessment['Percision'][c] * assessment['Recall'][c]) / (assessment['Percision'][c] + assessment['Recall'][c]) for c in categories}\n",
    "\n",
    "def printAssesment():\n",
    "    calculateAssessment()\n",
    "    print(\"Accuracy\", \" : \", assessment['Accuracy'] * 100, '\\n')\n",
    "    for c in categories:\n",
    "        print(\"->>\", c, \"----------\")\n",
    "        print(\"Percision\", \" : \", assessment['Percision'][c] * 100)\n",
    "        print(\"Recall\", \" : \", assessment['Recall'][c] * 100)\n",
    "        print(\"F1\", \" : \", assessment['F1'][c] * 100, '\\n')"
   ]
  },
  {
   "cell_type": "markdown",
   "id": "29ff8e87",
   "metadata": {},
   "source": [
    "# Phase 3: Assessment\n",
    "# => 7:\n",
    "Imagine a classifier which predict business for all products, the recall for category business is good but the classifier is not good actually cause the percision is not good. \n",
    "\n",
    "On the other hand imagine we predict 4 products category business and they are all true, so the precision is good and 100 percent but we have lost many other products with category business so  recall is low and our classifier didnt work properly. \n",
    "\n",
    "according to the above samples we need both recall and precision to check if our classifier works good or no."
   ]
  },
  {
   "cell_type": "markdown",
   "id": "19785659",
   "metadata": {},
   "source": [
    "# => 8:\n",
    "**F1** is the harmonic mean of Precision and Recall. F1 takes both false positives and false negatives into account. F1 is usually more useful than accuracy, especially if you have an uneven class distribution. If the cost of false positives and false negatives are very different, it’s better to look at both Precision and Recall but if they have similar cost Accuracy works best.\n",
    "\n",
    "$$Precision = \\frac{True Positive}{True Positive + False Positive}$$\n",
    "\n",
    "$$Recall = \\frac{True Positive}{True Positive + False Negative}$$\n",
    "\n",
    "$$F_{1} = 2\\frac{Precision * Recall}{Precision + Recall} = \\frac{True Positive}{True Positive + \\frac{False Positive + False Negative}{2}}$$"
   ]
  },
  {
   "cell_type": "markdown",
   "id": "d21f2264",
   "metadata": {},
   "source": [
    "# => 9:\n",
    "**Micro**: computes f1 by value total true positives, false negatives and false positives.\n",
    "\n",
    "**Macro**: calcluates f1 for each category and then returns the average without considering the proportion for each label in the dataset or we can say the weight is 1 for all.\n",
    "\n",
    "**Weighted**: calculates f1 for each category and then returns the average considering the proportion for each category in the dataset which is actually weight of that category."
   ]
  },
  {
   "cell_type": "markdown",
   "id": "8fe85dec",
   "metadata": {},
   "source": [
    "# Calculating micro, macro and weighted\n",
    "Here we calculate micro, macro and weighted"
   ]
  },
  {
   "cell_type": "code",
   "execution_count": 74,
   "id": "935a3733",
   "metadata": {},
   "outputs": [],
   "source": [
    "avgs = {\n",
    "    'Macro Avg': 0, \n",
    "    'Micro Avg': 0,\n",
    "    'Weighted Avg': 0\n",
    "}\n",
    "\n",
    "def calculageAvgs():\n",
    "    macroAvg = 0\n",
    "    for a in assessment['F1'].keys():\n",
    "        macroAvg += assessment['F1'][a]\n",
    "    avgs['Macro Avg'] = macroAvg / 6\n",
    "    \n",
    "    weightedAvg = 0\n",
    "    totalWeights = 0\n",
    "    for a in assessment['F1'].keys():\n",
    "        totalWeights += assessmentData['Total Class'][a]\n",
    "        macroAvg += assessment['F1'][a] * assessmentData['Total Class'][a]\n",
    "    avgs['Weighted Avg'] = macroAvg / totalWeights\n",
    "    \n",
    "    microAvg = 0\n",
    "    correctCounts = 0\n",
    "    totalClasses = 0\n",
    "    for a in assessment['F1'].keys():\n",
    "        correctCounts += assessmentData['Correct Detected Class'][a]\n",
    "        totalClasses += assessmentData['Total Class'][a]\n",
    "    avgs['Micro Avg'] = correctCounts / totalClasses\n",
    "    \n",
    "def printAvgs():\n",
    "    calculageAvgs()\n",
    "    print(\"******************\")\n",
    "    for a in avgs.keys():\n",
    "        print(a, \" --> \", avgs[a] * 100)\n",
    "    print(\"******************\")"
   ]
  },
  {
   "cell_type": "markdown",
   "id": "d4b107f4",
   "metadata": {},
   "source": [
    "# => 10: A)\n",
    "# Results With Using Additive Smoothing"
   ]
  },
  {
   "cell_type": "markdown",
   "id": "5d95b2bf",
   "metadata": {},
   "source": [
    "|        | Businesses | Electronic Devices | For the home | Leisure Hobbies | Personal | Vehicles | All Calsses |\n",
    "| --- | --- | --- | --- | --- | --- | --- | --- |\n",
    "| **Percision** | 78.52 | 89.73 | 77.61 | 91.24 | 87.82 | 94.60 | - |\n",
    "| **Recall** | 78.0 | 90.33 | 89.0 | 83.33 | 89.0 | 87.66 | - |\n",
    "| **F1-score** | 78.26 | 90.03 | 82.91 | 87.10 | 88.41 | 91.00 | - |\n",
    "| **Accuracy** | - | - | - | - | - | - | 86.22 |\n",
    "| **Macro Avg** | - | - | - | - | - | - | 86.28 |\n",
    "| **Micro Avg** | - | - | - | - | - | - | 86.22 |\n",
    "| **Weighted Avg** | - | - | - | - | - | - | 86.57 |"
   ]
  },
  {
   "cell_type": "markdown",
   "id": "048fca4e",
   "metadata": {},
   "source": [
    "# => 10: B)\n",
    "# Results Without Using Additive Smoothing"
   ]
  },
  {
   "cell_type": "markdown",
   "id": "3f6e23c0",
   "metadata": {},
   "source": [
    "|        | Businesses | Electronic Devices | For the home | Leisure Hobbies | Personal | Vehicles | All Calsses |\n",
    "| --- | --- | --- | --- | --- | --- | --- | --- |\n",
    "| **Percision** | 76.57 | 88.52 | 86.04 | 90.54 | 91.58 | 22.45 | - |\n",
    "| **Recall** | 28.33 | 18.0 | 37.0 | 22.33 | 32.66 | 98.66 | - |\n",
    "| **F1-score** | 41.36 | 29.91 | 51.74 | 35.82 | 48.15 | 36.58 | - |\n",
    "| **Accuracy** | - | - | - | - | - | - | 39.5 |\n",
    "| **Macro Avg** | - | - | - | - | - | - | 40.60 |\n",
    "| **Micro Avg** | - | - | - | - | - | - | 39.5 |\n",
    "| **Weighted Avg** | - | - | - | - | - | - | 40.73 |"
   ]
  },
  {
   "cell_type": "markdown",
   "id": "12349739",
   "metadata": {},
   "source": [
    "# => 11:\n",
    "when we use additive smoothing the result improves and we have higher an better accuracy and averages. And also in every category percesion,  recall and F1 increased after using additive smoothing."
   ]
  },
  {
   "cell_type": "markdown",
   "id": "8b4c0b37",
   "metadata": {},
   "source": [
    "# => 12:\n",
    "Without using additive smoothing some results are wrong because there is some unique words in test product which is only in one category so the probability for other categories are zero so the calssifier predicts wrong. So we check 5 wrong answers which are in classifer with additive smoothing:\n"
   ]
  },
  {
   "cell_type": "markdown",
   "id": "e3a52a80",
   "metadata": {},
   "source": [
    "# Five Wrong Answered Tests:\n",
    "\n",
    "Product  0  -->  ['سیپوراکس', 'سیپوراکس', 'میکرو', 'مک', 'جی', 'بی', 'ال', 'سرامیک', 'سرا', 'کاهنده', 'نیترات', 'نیتریت', 'اکواریوم', 'درجه', 'یک']\n",
    "\n",
    "Predicted category:  for-the-home\n",
    "\n",
    "Real category:  leisure-hobbies\n",
    "\n",
    "Product  1  -->  ['موتور', 'تزیین', 'جنس', 'اهن', 'کار', 'دست', 'عرضه', 'صورت', 'عمده', 'تک']\n",
    "\n",
    "Predicted category:  businesses\n",
    "\n",
    "Real category:  for-the-home\n",
    "\n",
    "Product  2  -->  ['90', 'عدد', 'بشقاب', 'پیتزا', 'تک', 'نفره', 'قیمت', 'هرعدد', '4000', 'بشقاب', 'پیتزا', 'یک', 'نفره', 'عدد', '4000', 'باتشکراز', 'دیوار']\n",
    "\n",
    "Predicted category:  for-the-home\n",
    "\n",
    "Real category:  businesses\n",
    "\n",
    "Product  3  -->  ['اچارشلاقی', 'HEYCOالمان', 'اصل', 'المان', 'سایز', '۱/۵', 'بسیار', 'مقاوم']\n",
    "\n",
    "Predicted category:  personal\n",
    "\n",
    "Real category:  businesses\n",
    "\n",
    "Product  4  -->  ['فروش', 'تلفکس', 'سلام', 'تلفکس', 'پاناسونیک', 'تمیز', 'کم', 'کار']\n",
    "\n",
    "Predicted category:  electronic-devices\n",
    "\n",
    "Real category:  businesses\n",
    "\n",
    "# Analysis:\n",
    "As we can see in product 4 we have words more related to electronic-devices so our classifier answered electronic-devices but the true answer is business. Our classifier decided logicly and the product is confusing or categorized wrongly at first.\n",
    "\n",
    "For product 2 the predicted category is for-the-home and it seems true but the true category is business and its not logical. So the classifier decided truely according to description and title."
   ]
  },
  {
   "cell_type": "code",
   "execution_count": 75,
   "id": "5de1cdbc",
   "metadata": {},
   "outputs": [],
   "source": [
    "def printWrongAnswered(n):\n",
    "    print(len(wrongAnsweredTests))\n",
    "    for i in range(min(n, len(wrongAnsweredTests))):\n",
    "        print('Product ', i, ' --> ', wrongAnsweredTests[i][0])\n",
    "        print('Predicted category: ', wrongAnsweredTests[i][1])\n",
    "        print('Real category: ', wrongAnsweredTests[i][2])"
   ]
  },
  {
   "cell_type": "code",
   "execution_count": 76,
   "id": "b2661695",
   "metadata": {},
   "outputs": [],
   "source": [
    "def main():\n",
    "    print('', \"#\" * 22, '\\n', \"# PREDICT CATEGORIES #\\n\", \"#\" * 22)\n",
    "    predictCategories()\n",
    "    printAssesment()\n",
    "    printAvgs()\n",
    "    print('', \"#\" * 46, '\\n', \"# PREDICT CATEGORIES WITH ADDITIVE SMOOTHING #\\n\", \"#\" * 46)\n",
    "    predictCategoriesAdditive()\n",
    "    printAssesment()\n",
    "    printAvgs()\n",
    "    printWrongAnswered(5)"
   ]
  },
  {
   "cell_type": "code",
   "execution_count": 77,
   "id": "96b15977",
   "metadata": {
    "scrolled": false
   },
   "outputs": [
    {
     "name": "stdout",
     "output_type": "stream",
     "text": [
      " ###################### \n",
      " # PREDICT CATEGORIES #\n",
      " ######################\n",
      "Accuracy  :  39.5 \n",
      "\n",
      "->> leisure-hobbies ----------\n",
      "Percision  :  90.54054054054053\n",
      "Recall  :  22.333333333333332\n",
      "F1  :  35.82887700534759 \n",
      "\n",
      "->> businesses ----------\n",
      "Percision  :  76.57657657657657\n",
      "Recall  :  28.333333333333332\n",
      "F1  :  41.3625304136253 \n",
      "\n",
      "->> personal ----------\n",
      "Percision  :  91.58878504672897\n",
      "Recall  :  32.666666666666664\n",
      "F1  :  48.15724815724816 \n",
      "\n",
      "->> for-the-home ----------\n",
      "Percision  :  86.04651162790698\n",
      "Recall  :  37.0\n",
      "F1  :  51.74825174825175 \n",
      "\n",
      "->> electronic-devices ----------\n",
      "Percision  :  88.52459016393442\n",
      "Recall  :  18.0\n",
      "F1  :  29.916897506925206 \n",
      "\n",
      "->> vehicles ----------\n",
      "Percision  :  22.458270106221548\n",
      "Recall  :  98.66666666666667\n",
      "F1  :  36.58838071693449 \n",
      "\n",
      "******************\n",
      "Macro Avg  -->  40.600364258055414\n",
      "Micro Avg  -->  39.5\n",
      "Weighted Avg  -->  40.735698805582274\n",
      "******************\n",
      " ############################################## \n",
      " # PREDICT CATEGORIES WITH ADDITIVE SMOOTHING #\n",
      " ##############################################\n",
      "Accuracy  :  86.22222222222223 \n",
      "\n",
      "->> leisure-hobbies ----------\n",
      "Percision  :  91.24087591240875\n",
      "Recall  :  83.33333333333334\n",
      "F1  :  87.10801393728222 \n",
      "\n",
      "->> businesses ----------\n",
      "Percision  :  78.52348993288591\n",
      "Recall  :  78.0\n",
      "F1  :  78.26086956521738 \n",
      "\n",
      "->> personal ----------\n",
      "Percision  :  87.82894736842105\n",
      "Recall  :  89.0\n",
      "F1  :  88.41059602649007 \n",
      "\n",
      "->> for-the-home ----------\n",
      "Percision  :  77.61627906976744\n",
      "Recall  :  89.0\n",
      "F1  :  82.9192546583851 \n",
      "\n",
      "->> electronic-devices ----------\n",
      "Percision  :  89.73509933774835\n",
      "Recall  :  90.33333333333333\n",
      "F1  :  90.03322259136213 \n",
      "\n",
      "->> vehicles ----------\n",
      "Percision  :  94.60431654676259\n",
      "Recall  :  87.66666666666667\n",
      "F1  :  91.00346020761246 \n",
      "\n",
      "******************\n",
      "Macro Avg  -->  86.28923616439157\n",
      "Micro Avg  -->  86.22222222222223\n",
      "Weighted Avg  -->  86.5768669516062\n",
      "******************\n",
      "248\n",
      "Product  0  -->  ['سیپوراکس', 'سیپوراکس', 'میکرو', 'مک', 'جی', 'بی', 'ال', 'سرامیک', 'سرا', 'کاهنده', 'نیترات', 'نیتریت', 'اکواریوم', 'درجه', 'یک']\n",
      "Predicted category:  for-the-home\n",
      "Real category:  leisure-hobbies\n",
      "Product  1  -->  ['موتور', 'تزیین', 'جنس', 'اهن', 'کار', 'دست', 'عرضه', 'صورت', 'عمده', 'تک']\n",
      "Predicted category:  businesses\n",
      "Real category:  for-the-home\n",
      "Product  2  -->  ['90', 'عدد', 'بشقاب', 'پیتزا', 'تک', 'نفره', 'قیمت', 'هرعدد', '4000', 'بشقاب', 'پیتزا', 'یک', 'نفره', 'عدد', '4000', 'باتشکراز', 'دیوار']\n",
      "Predicted category:  for-the-home\n",
      "Real category:  businesses\n",
      "Product  3  -->  ['اچارشلاقی', 'HEYCOالمان', 'اصل', 'المان', 'سایز', '۱/۵', 'بسیار', 'مقاوم']\n",
      "Predicted category:  personal\n",
      "Real category:  businesses\n",
      "Product  4  -->  ['فروش', 'تلفکس', 'سلام', 'تلفکس', 'پاناسونیک', 'تمیز', 'کم', 'کار']\n",
      "Predicted category:  electronic-devices\n",
      "Real category:  businesses\n"
     ]
    }
   ],
   "source": [
    "main()"
   ]
  },
  {
   "cell_type": "code",
   "execution_count": null,
   "id": "9a791375",
   "metadata": {},
   "outputs": [],
   "source": []
  },
  {
   "cell_type": "code",
   "execution_count": null,
   "id": "4cca9108",
   "metadata": {},
   "outputs": [],
   "source": []
  }
 ],
 "metadata": {
  "kernelspec": {
   "display_name": "Python 3 (ipykernel)",
   "language": "python",
   "name": "python3"
  },
  "language_info": {
   "codemirror_mode": {
    "name": "ipython",
    "version": 3
   },
   "file_extension": ".py",
   "mimetype": "text/x-python",
   "name": "python",
   "nbconvert_exporter": "python",
   "pygments_lexer": "ipython3",
   "version": "3.8.10"
  }
 },
 "nbformat": 4,
 "nbformat_minor": 5
}
